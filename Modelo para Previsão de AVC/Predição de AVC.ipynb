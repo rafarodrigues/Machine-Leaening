{
 "cells": [
  {
   "cell_type": "markdown",
   "id": "6a8e9737",
   "metadata": {},
   "source": [
    "# PRIMEIROS PASSOS COM MACHINE LEARNING"
   ]
  },
  {
   "cell_type": "markdown",
   "id": "7cfc9d0b",
   "metadata": {},
   "source": [
    "## Modelo para detecção de fatores de risco para um possível AVC"
   ]
  },
  {
   "cell_type": "markdown",
   "id": "7ffc1796",
   "metadata": {},
   "source": [
    "### Contexto\n",
    "\n",
    "De acordo com a Organização Mundial da Saúde (OMS) o acidente vascular cerebral (AVC) é a segunda maior causa de morte global, responsável por aproximadamente 11% de todas as mortes no mundo.\n",
    "\n",
    "Esse dataset pode ser utilizado para tentar prever se um paciente está sujeito a sofrer um AVC baseado em alguns parâmetros, como idade, gênero, doenças pregressas, tabagismo, etc.\n",
    "\n",
    "Cada linha promove informação relevante sobre um paciente."
   ]
  },
  {
   "cell_type": "markdown",
   "id": "94f1d275",
   "metadata": {},
   "source": [
    "### Objetivo\n",
    "\n",
    "> * Ter os primeiros contatos com a biblioteca scikit learn;\n",
    "> * Perceber as dificuldades que a parte mais complexa do modelo é testar e validar;\n",
    "> * Visualizar as informações contindas na base e tomar as decisões de quais e como utilizá-las;\n",
    "> * Consolidar conhecimentos com a biblioteca Pandas e com Jupyter Notebook."
   ]
  },
  {
   "cell_type": "code",
   "execution_count": 505,
   "id": "f5aab82c",
   "metadata": {},
   "outputs": [],
   "source": [
    "import pandas as pd\n",
    "import matplotlib.pyplot as plt\n",
    "import matplotlib.ticker as ticker\n",
    "import seaborn as sns\n",
    "\n",
    "import xgboost as xgb"
   ]
  },
  {
   "cell_type": "markdown",
   "id": "ae6fe761",
   "metadata": {},
   "source": [
    "# IMPORTAÇÃO DOS DADOS"
   ]
  },
  {
   "cell_type": "markdown",
   "id": "25df9d54",
   "metadata": {},
   "source": [
    "## Fonte dos dados\n",
    "> Foram utilizados dados extraídos do Kaggle, única e exclusivamente para fins de estudos.\n",
    "\n",
    "`healthcare-dataset-stroke-data.zip`\n",
    "> * https://www.kaggle.com/datasets/fedesoriano/stroke-prediction-dataset\n",
    "> * última atualização: 16 de novembro de 2022\n",
    "> * Autor: FEDESORIANO (https://www.kaggle.com/fedesoriano)\n",
    "> * *dataset* com as informações de idade, gênero, condições de saúde e indicadores de pacientes\n",
    "\n"
   ]
  },
  {
   "cell_type": "code",
   "execution_count": 506,
   "id": "584e8998",
   "metadata": {},
   "outputs": [],
   "source": [
    "# Leitura da base de dados\n",
    "df = pd.read_csv(\"raw\\healthcare-dataset-stroke-data.zip\")"
   ]
  },
  {
   "cell_type": "markdown",
   "id": "113dfed6",
   "metadata": {},
   "source": [
    "# ESTRUTURA DOS DADOS"
   ]
  },
  {
   "cell_type": "code",
   "execution_count": 507,
   "id": "43c1d201",
   "metadata": {},
   "outputs": [
    {
     "data": {
      "text/html": [
       "<div>\n",
       "<style scoped>\n",
       "    .dataframe tbody tr th:only-of-type {\n",
       "        vertical-align: middle;\n",
       "    }\n",
       "\n",
       "    .dataframe tbody tr th {\n",
       "        vertical-align: top;\n",
       "    }\n",
       "\n",
       "    .dataframe thead th {\n",
       "        text-align: right;\n",
       "    }\n",
       "</style>\n",
       "<table border=\"1\" class=\"dataframe\">\n",
       "  <thead>\n",
       "    <tr style=\"text-align: right;\">\n",
       "      <th></th>\n",
       "      <th>id</th>\n",
       "      <th>gender</th>\n",
       "      <th>age</th>\n",
       "      <th>hypertension</th>\n",
       "      <th>heart_disease</th>\n",
       "      <th>ever_married</th>\n",
       "      <th>work_type</th>\n",
       "      <th>Residence_type</th>\n",
       "      <th>avg_glucose_level</th>\n",
       "      <th>bmi</th>\n",
       "      <th>smoking_status</th>\n",
       "      <th>stroke</th>\n",
       "    </tr>\n",
       "  </thead>\n",
       "  <tbody>\n",
       "    <tr>\n",
       "      <th>1257</th>\n",
       "      <td>5821</td>\n",
       "      <td>Female</td>\n",
       "      <td>50.0</td>\n",
       "      <td>0</td>\n",
       "      <td>0</td>\n",
       "      <td>Yes</td>\n",
       "      <td>Private</td>\n",
       "      <td>Rural</td>\n",
       "      <td>217.39</td>\n",
       "      <td>50.6</td>\n",
       "      <td>Unknown</td>\n",
       "      <td>0</td>\n",
       "    </tr>\n",
       "    <tr>\n",
       "      <th>2021</th>\n",
       "      <td>38316</td>\n",
       "      <td>Male</td>\n",
       "      <td>55.0</td>\n",
       "      <td>0</td>\n",
       "      <td>0</td>\n",
       "      <td>Yes</td>\n",
       "      <td>Private</td>\n",
       "      <td>Rural</td>\n",
       "      <td>118.69</td>\n",
       "      <td>26.4</td>\n",
       "      <td>Unknown</td>\n",
       "      <td>0</td>\n",
       "    </tr>\n",
       "    <tr>\n",
       "      <th>227</th>\n",
       "      <td>39105</td>\n",
       "      <td>Male</td>\n",
       "      <td>74.0</td>\n",
       "      <td>0</td>\n",
       "      <td>0</td>\n",
       "      <td>Yes</td>\n",
       "      <td>Self-employed</td>\n",
       "      <td>Rural</td>\n",
       "      <td>60.98</td>\n",
       "      <td>NaN</td>\n",
       "      <td>never smoked</td>\n",
       "      <td>1</td>\n",
       "    </tr>\n",
       "    <tr>\n",
       "      <th>1800</th>\n",
       "      <td>28998</td>\n",
       "      <td>Male</td>\n",
       "      <td>25.0</td>\n",
       "      <td>0</td>\n",
       "      <td>0</td>\n",
       "      <td>No</td>\n",
       "      <td>Private</td>\n",
       "      <td>Rural</td>\n",
       "      <td>85.17</td>\n",
       "      <td>28.7</td>\n",
       "      <td>smokes</td>\n",
       "      <td>0</td>\n",
       "    </tr>\n",
       "    <tr>\n",
       "      <th>4182</th>\n",
       "      <td>27119</td>\n",
       "      <td>Female</td>\n",
       "      <td>28.0</td>\n",
       "      <td>0</td>\n",
       "      <td>0</td>\n",
       "      <td>No</td>\n",
       "      <td>Private</td>\n",
       "      <td>Rural</td>\n",
       "      <td>104.16</td>\n",
       "      <td>21.5</td>\n",
       "      <td>never smoked</td>\n",
       "      <td>0</td>\n",
       "    </tr>\n",
       "    <tr>\n",
       "      <th>214</th>\n",
       "      <td>2548</td>\n",
       "      <td>Female</td>\n",
       "      <td>81.0</td>\n",
       "      <td>0</td>\n",
       "      <td>0</td>\n",
       "      <td>Yes</td>\n",
       "      <td>Self-employed</td>\n",
       "      <td>Urban</td>\n",
       "      <td>95.84</td>\n",
       "      <td>21.5</td>\n",
       "      <td>never smoked</td>\n",
       "      <td>1</td>\n",
       "    </tr>\n",
       "    <tr>\n",
       "      <th>3665</th>\n",
       "      <td>8983</td>\n",
       "      <td>Female</td>\n",
       "      <td>80.0</td>\n",
       "      <td>1</td>\n",
       "      <td>0</td>\n",
       "      <td>Yes</td>\n",
       "      <td>Private</td>\n",
       "      <td>Urban</td>\n",
       "      <td>89.16</td>\n",
       "      <td>24.0</td>\n",
       "      <td>never smoked</td>\n",
       "      <td>0</td>\n",
       "    </tr>\n",
       "    <tr>\n",
       "      <th>3671</th>\n",
       "      <td>37038</td>\n",
       "      <td>Male</td>\n",
       "      <td>15.0</td>\n",
       "      <td>0</td>\n",
       "      <td>0</td>\n",
       "      <td>No</td>\n",
       "      <td>children</td>\n",
       "      <td>Urban</td>\n",
       "      <td>95.86</td>\n",
       "      <td>18.1</td>\n",
       "      <td>Unknown</td>\n",
       "      <td>0</td>\n",
       "    </tr>\n",
       "    <tr>\n",
       "      <th>4916</th>\n",
       "      <td>31189</td>\n",
       "      <td>Male</td>\n",
       "      <td>54.0</td>\n",
       "      <td>0</td>\n",
       "      <td>0</td>\n",
       "      <td>Yes</td>\n",
       "      <td>Govt_job</td>\n",
       "      <td>Urban</td>\n",
       "      <td>72.96</td>\n",
       "      <td>37.7</td>\n",
       "      <td>smokes</td>\n",
       "      <td>0</td>\n",
       "    </tr>\n",
       "    <tr>\n",
       "      <th>3017</th>\n",
       "      <td>33009</td>\n",
       "      <td>Male</td>\n",
       "      <td>76.0</td>\n",
       "      <td>0</td>\n",
       "      <td>0</td>\n",
       "      <td>Yes</td>\n",
       "      <td>Self-employed</td>\n",
       "      <td>Rural</td>\n",
       "      <td>221.80</td>\n",
       "      <td>44.7</td>\n",
       "      <td>formerly smoked</td>\n",
       "      <td>0</td>\n",
       "    </tr>\n",
       "  </tbody>\n",
       "</table>\n",
       "</div>"
      ],
      "text/plain": [
       "         id  gender   age  hypertension  heart_disease ever_married  \\\n",
       "1257   5821  Female  50.0             0              0          Yes   \n",
       "2021  38316    Male  55.0             0              0          Yes   \n",
       "227   39105    Male  74.0             0              0          Yes   \n",
       "1800  28998    Male  25.0             0              0           No   \n",
       "4182  27119  Female  28.0             0              0           No   \n",
       "214    2548  Female  81.0             0              0          Yes   \n",
       "3665   8983  Female  80.0             1              0          Yes   \n",
       "3671  37038    Male  15.0             0              0           No   \n",
       "4916  31189    Male  54.0             0              0          Yes   \n",
       "3017  33009    Male  76.0             0              0          Yes   \n",
       "\n",
       "          work_type Residence_type  avg_glucose_level   bmi   smoking_status  \\\n",
       "1257        Private          Rural             217.39  50.6          Unknown   \n",
       "2021        Private          Rural             118.69  26.4          Unknown   \n",
       "227   Self-employed          Rural              60.98   NaN     never smoked   \n",
       "1800        Private          Rural              85.17  28.7           smokes   \n",
       "4182        Private          Rural             104.16  21.5     never smoked   \n",
       "214   Self-employed          Urban              95.84  21.5     never smoked   \n",
       "3665        Private          Urban              89.16  24.0     never smoked   \n",
       "3671       children          Urban              95.86  18.1          Unknown   \n",
       "4916       Govt_job          Urban              72.96  37.7           smokes   \n",
       "3017  Self-employed          Rural             221.80  44.7  formerly smoked   \n",
       "\n",
       "      stroke  \n",
       "1257       0  \n",
       "2021       0  \n",
       "227        1  \n",
       "1800       0  \n",
       "4182       0  \n",
       "214        1  \n",
       "3665       0  \n",
       "3671       0  \n",
       "4916       0  \n",
       "3017       0  "
      ]
     },
     "execution_count": 507,
     "metadata": {},
     "output_type": "execute_result"
    }
   ],
   "source": [
    "# Apresenta linhas randômicas\n",
    "df.sample(10)"
   ]
  },
  {
   "cell_type": "code",
   "execution_count": 508,
   "id": "d89c4b4d",
   "metadata": {},
   "outputs": [],
   "source": [
    "# Vamos dropar a coluna ID que não vamos utilizar para nada\n",
    "df.drop(['id'], axis=1, inplace=True)"
   ]
  },
  {
   "cell_type": "markdown",
   "id": "89de01d2",
   "metadata": {},
   "source": [
    "#### Dataset\n",
    "> 1. Percebemos que existem colunas categóricas e numéricas;\n",
    "\n",
    "> 2. Percebemos algumas colunas importantes como idade, gênero, algumas doenças como hipertensão e doenças no coração;\n",
    "\n",
    "> 3. Identificamos que algumas delas precisarão ser transformadas em números (gênero, por exemplo);\n",
    "\n",
    "> 4. Provavelmente alguma dessas colunas não serão utilizadas (Tipo de residência, por ex.). Precisaremos fazer um mapa de correlação e entender melhor essas variáveis."
   ]
  },
  {
   "cell_type": "code",
   "execution_count": 509,
   "id": "1e1b12c1",
   "metadata": {},
   "outputs": [
    {
     "name": "stdout",
     "output_type": "stream",
     "text": [
      ">>>> Existem 5110 linhas e 11 colunas nesse dataset\n"
     ]
    }
   ],
   "source": [
    "print(f\">>>> Existem {df.shape[0]} linhas e {df.shape[1]} colunas nesse dataset\")"
   ]
  },
  {
   "cell_type": "markdown",
   "id": "31dd4fec",
   "metadata": {},
   "source": [
    "#### Base pequena\n",
    "> Percebemos que a base com 5110 linhas é muito pequena, portanto é realmente uma base apenas com fins educativos. É impossível montar um modelo viável de predição para AVC apenas com 5 mil linhas"
   ]
  },
  {
   "cell_type": "code",
   "execution_count": 510,
   "id": "8ce1a7d5",
   "metadata": {},
   "outputs": [
    {
     "name": "stdout",
     "output_type": "stream",
     "text": [
      "<class 'pandas.core.frame.DataFrame'>\n",
      "RangeIndex: 5110 entries, 0 to 5109\n",
      "Data columns (total 11 columns):\n",
      " #   Column             Non-Null Count  Dtype  \n",
      "---  ------             --------------  -----  \n",
      " 0   gender             5110 non-null   object \n",
      " 1   age                5110 non-null   float64\n",
      " 2   hypertension       5110 non-null   int64  \n",
      " 3   heart_disease      5110 non-null   int64  \n",
      " 4   ever_married       5110 non-null   object \n",
      " 5   work_type          5110 non-null   object \n",
      " 6   Residence_type     5110 non-null   object \n",
      " 7   avg_glucose_level  5110 non-null   float64\n",
      " 8   bmi                4909 non-null   float64\n",
      " 9   smoking_status     5110 non-null   object \n",
      " 10  stroke             5110 non-null   int64  \n",
      "dtypes: float64(3), int64(3), object(5)\n",
      "memory usage: 439.3+ KB\n"
     ]
    }
   ],
   "source": [
    "df.info()"
   ]
  },
  {
   "cell_type": "code",
   "execution_count": 511,
   "id": "109b2bf1",
   "metadata": {},
   "outputs": [
    {
     "data": {
      "text/html": [
       "<div>\n",
       "<style scoped>\n",
       "    .dataframe tbody tr th:only-of-type {\n",
       "        vertical-align: middle;\n",
       "    }\n",
       "\n",
       "    .dataframe tbody tr th {\n",
       "        vertical-align: top;\n",
       "    }\n",
       "\n",
       "    .dataframe thead th {\n",
       "        text-align: right;\n",
       "    }\n",
       "</style>\n",
       "<table border=\"1\" class=\"dataframe\">\n",
       "  <thead>\n",
       "    <tr style=\"text-align: right;\">\n",
       "      <th></th>\n",
       "      <th>count</th>\n",
       "      <th>mean</th>\n",
       "      <th>std</th>\n",
       "      <th>min</th>\n",
       "      <th>25%</th>\n",
       "      <th>50%</th>\n",
       "      <th>75%</th>\n",
       "      <th>max</th>\n",
       "    </tr>\n",
       "  </thead>\n",
       "  <tbody>\n",
       "    <tr>\n",
       "      <th>age</th>\n",
       "      <td>5110.0</td>\n",
       "      <td>43.226614</td>\n",
       "      <td>22.612647</td>\n",
       "      <td>0.08</td>\n",
       "      <td>25.000</td>\n",
       "      <td>45.000</td>\n",
       "      <td>61.00</td>\n",
       "      <td>82.00</td>\n",
       "    </tr>\n",
       "    <tr>\n",
       "      <th>hypertension</th>\n",
       "      <td>5110.0</td>\n",
       "      <td>0.097456</td>\n",
       "      <td>0.296607</td>\n",
       "      <td>0.00</td>\n",
       "      <td>0.000</td>\n",
       "      <td>0.000</td>\n",
       "      <td>0.00</td>\n",
       "      <td>1.00</td>\n",
       "    </tr>\n",
       "    <tr>\n",
       "      <th>heart_disease</th>\n",
       "      <td>5110.0</td>\n",
       "      <td>0.054012</td>\n",
       "      <td>0.226063</td>\n",
       "      <td>0.00</td>\n",
       "      <td>0.000</td>\n",
       "      <td>0.000</td>\n",
       "      <td>0.00</td>\n",
       "      <td>1.00</td>\n",
       "    </tr>\n",
       "    <tr>\n",
       "      <th>avg_glucose_level</th>\n",
       "      <td>5110.0</td>\n",
       "      <td>106.147677</td>\n",
       "      <td>45.283560</td>\n",
       "      <td>55.12</td>\n",
       "      <td>77.245</td>\n",
       "      <td>91.885</td>\n",
       "      <td>114.09</td>\n",
       "      <td>271.74</td>\n",
       "    </tr>\n",
       "    <tr>\n",
       "      <th>bmi</th>\n",
       "      <td>4909.0</td>\n",
       "      <td>28.893237</td>\n",
       "      <td>7.854067</td>\n",
       "      <td>10.30</td>\n",
       "      <td>23.500</td>\n",
       "      <td>28.100</td>\n",
       "      <td>33.10</td>\n",
       "      <td>97.60</td>\n",
       "    </tr>\n",
       "    <tr>\n",
       "      <th>stroke</th>\n",
       "      <td>5110.0</td>\n",
       "      <td>0.048728</td>\n",
       "      <td>0.215320</td>\n",
       "      <td>0.00</td>\n",
       "      <td>0.000</td>\n",
       "      <td>0.000</td>\n",
       "      <td>0.00</td>\n",
       "      <td>1.00</td>\n",
       "    </tr>\n",
       "  </tbody>\n",
       "</table>\n",
       "</div>"
      ],
      "text/plain": [
       "                    count        mean        std    min     25%     50%  \\\n",
       "age                5110.0   43.226614  22.612647   0.08  25.000  45.000   \n",
       "hypertension       5110.0    0.097456   0.296607   0.00   0.000   0.000   \n",
       "heart_disease      5110.0    0.054012   0.226063   0.00   0.000   0.000   \n",
       "avg_glucose_level  5110.0  106.147677  45.283560  55.12  77.245  91.885   \n",
       "bmi                4909.0   28.893237   7.854067  10.30  23.500  28.100   \n",
       "stroke             5110.0    0.048728   0.215320   0.00   0.000   0.000   \n",
       "\n",
       "                      75%     max  \n",
       "age                 61.00   82.00  \n",
       "hypertension         0.00    1.00  \n",
       "heart_disease        0.00    1.00  \n",
       "avg_glucose_level  114.09  271.74  \n",
       "bmi                 33.10   97.60  \n",
       "stroke               0.00    1.00  "
      ]
     },
     "execution_count": 511,
     "metadata": {},
     "output_type": "execute_result"
    }
   ],
   "source": [
    "df.describe().T"
   ]
  },
  {
   "cell_type": "code",
   "execution_count": 512,
   "id": "2cbb7858",
   "metadata": {},
   "outputs": [
    {
     "data": {
      "text/html": [
       "<div>\n",
       "<style scoped>\n",
       "    .dataframe tbody tr th:only-of-type {\n",
       "        vertical-align: middle;\n",
       "    }\n",
       "\n",
       "    .dataframe tbody tr th {\n",
       "        vertical-align: top;\n",
       "    }\n",
       "\n",
       "    .dataframe thead th {\n",
       "        text-align: right;\n",
       "    }\n",
       "</style>\n",
       "<table border=\"1\" class=\"dataframe\">\n",
       "  <thead>\n",
       "    <tr style=\"text-align: right;\">\n",
       "      <th></th>\n",
       "      <th>count</th>\n",
       "      <th>unique</th>\n",
       "      <th>top</th>\n",
       "      <th>freq</th>\n",
       "    </tr>\n",
       "  </thead>\n",
       "  <tbody>\n",
       "    <tr>\n",
       "      <th>gender</th>\n",
       "      <td>5110</td>\n",
       "      <td>3</td>\n",
       "      <td>Female</td>\n",
       "      <td>2994</td>\n",
       "    </tr>\n",
       "    <tr>\n",
       "      <th>ever_married</th>\n",
       "      <td>5110</td>\n",
       "      <td>2</td>\n",
       "      <td>Yes</td>\n",
       "      <td>3353</td>\n",
       "    </tr>\n",
       "    <tr>\n",
       "      <th>work_type</th>\n",
       "      <td>5110</td>\n",
       "      <td>5</td>\n",
       "      <td>Private</td>\n",
       "      <td>2925</td>\n",
       "    </tr>\n",
       "    <tr>\n",
       "      <th>Residence_type</th>\n",
       "      <td>5110</td>\n",
       "      <td>2</td>\n",
       "      <td>Urban</td>\n",
       "      <td>2596</td>\n",
       "    </tr>\n",
       "    <tr>\n",
       "      <th>smoking_status</th>\n",
       "      <td>5110</td>\n",
       "      <td>4</td>\n",
       "      <td>never smoked</td>\n",
       "      <td>1892</td>\n",
       "    </tr>\n",
       "  </tbody>\n",
       "</table>\n",
       "</div>"
      ],
      "text/plain": [
       "               count unique           top  freq\n",
       "gender          5110      3        Female  2994\n",
       "ever_married    5110      2           Yes  3353\n",
       "work_type       5110      5       Private  2925\n",
       "Residence_type  5110      2         Urban  2596\n",
       "smoking_status  5110      4  never smoked  1892"
      ]
     },
     "execution_count": 512,
     "metadata": {},
     "output_type": "execute_result"
    }
   ],
   "source": [
    "df.describe(exclude = 'number').T"
   ]
  },
  {
   "cell_type": "markdown",
   "id": "58b3fe3d",
   "metadata": {},
   "source": [
    "> 1. Entendemos que existem pessoas de 0.08 anos até 82 anos. Precisaremos analisar a existência de um outlier ou se é um recém nascido;\n",
    "> 2. Entendemos que precisaremos verificar se existem dados nulos na coluna BMI;\n",
    "> 3. Entendemos que existem mais mulheres do homens nesse dataset;\n",
    "> 4. Entendemos que precisamos fazer uma análise exploratória para entender como esse dataset está distribuído."
   ]
  },
  {
   "cell_type": "markdown",
   "id": "00e223cc",
   "metadata": {},
   "source": [
    "# ANÁLISE EXPLORATÓRIA DOS DADOS"
   ]
  },
  {
   "cell_type": "markdown",
   "id": "e8d4748d",
   "metadata": {},
   "source": [
    "## Idade"
   ]
  },
  {
   "cell_type": "code",
   "execution_count": 513,
   "id": "952f6365",
   "metadata": {},
   "outputs": [],
   "source": [
    "# Crio um df apenas com quem já teve AVC para comparar com quem nunca teve\n",
    "df_avc = df.loc[(df.stroke == 1)]"
   ]
  },
  {
   "cell_type": "code",
   "execution_count": 514,
   "id": "23449725",
   "metadata": {},
   "outputs": [
    {
     "data": {
      "image/png": "[encoded data removed]",
      "text/plain": [
       "<Figure size 1224x360 with 2 Axes>"
      ]
     },
     "metadata": {
      "needs_background": "light"
     },
     "output_type": "display_data"
    }
   ],
   "source": [
    "# Plotamos um gráfico com a quantidade de pessoas por idade \n",
    "# e em vermelho a quantidade de pessoas que já tiveram um AVC\n",
    "\n",
    "# Fica bem evidente que quanto maior a idade, maior a chance de acontecer um AVC.\n",
    "\n",
    "plt.figure(figsize = (17,5))    \n",
    "plt.subplot(1,2,1)              \n",
    "sns.histplot(df['age'])         \n",
    "sns.histplot(df_avc['age'], color=\"#e63946\")         \n",
    "\n",
    "plt.subplot(1,2,2)              \n",
    "sns.boxplot(y = df['age'])      \n",
    "plt.show()                      "
   ]
  },
  {
   "cell_type": "code",
   "execution_count": 515,
   "id": "ed9ccb6a",
   "metadata": {},
   "outputs": [
    {
     "data": {
      "image/png": "[encoded data removed]",
      "text/plain": [
       "<Figure size 1080x360 with 1 Axes>"
      ]
     },
     "metadata": {
      "needs_background": "light"
     },
     "output_type": "display_data"
    }
   ],
   "source": [
    "df_idade_agrupada = df.groupby(['age'], as_index=False)['stroke'].value_counts().sort_values(by='age',  ascending=True)\n",
    "df_idade_agrupada = df_idade_agrupada.loc[(df_idade_agrupada.stroke == 1)]\n",
    "\n",
    "eixo_x = df_idade_agrupada[\"age\"]\n",
    "eixo_y = df_idade_agrupada[\"count\"]\n",
    "\n",
    "figura = plt.figure(figsize=(15,5))\n",
    "plt.title(\"Quantidade de AVC x Idade.\", fontsize = 15, ha='center', va='center')\n",
    "plt.plot(eixo_x, eixo_y,'#008000')\n",
    "plt.xlabel(\"Idade\", size = 14)\n",
    "plt.ylabel(\"Quantidade de AVC\", size = 14)\n",
    "\n",
    "plt.show()"
   ]
  },
  {
   "cell_type": "code",
   "execution_count": 516,
   "id": "21216259",
   "metadata": {},
   "outputs": [
    {
     "name": "stdout",
     "output_type": "stream",
     "text": [
      "Quantidade de outliers:  0\n"
     ]
    }
   ],
   "source": [
    "# Verificamos se existe algum outlier\n",
    "import statistics\n",
    "\n",
    "outliers = []\n",
    "\n",
    "desv_pad = statistics.stdev(df['age'])\n",
    "media = statistics.mean(df['age'])\n",
    "limite = desv_pad * 3\n",
    "limite_inferior = media - limite\n",
    "limite_superior = media + limite\n",
    "\n",
    "for outlier in df['age']:\n",
    "    if outlier > limite_superior or outlier < limite_inferior:\n",
    "        outliers.append(outlier)\n",
    "\n",
    "porct_df_out = len(outliers)/len(df['age'])*100\n",
    "\n",
    "print(\"Quantidade de outliers: \", len(outliers))"
   ]
  },
  {
   "cell_type": "markdown",
   "id": "23f881ca",
   "metadata": {},
   "source": [
    "## BMI (IMC - Índice de Massa Corpórea)"
   ]
  },
  {
   "cell_type": "code",
   "execution_count": 517,
   "id": "42eb47cc",
   "metadata": {},
   "outputs": [
    {
     "data": {
      "image/png": "[encoded data removed]",
      "text/plain": [
       "<Figure size 1224x360 with 2 Axes>"
      ]
     },
     "metadata": {
      "needs_background": "light"
     },
     "output_type": "display_data"
    }
   ],
   "source": [
    "# Plotamos um gráfico com a quantidade de pessoas por IMC \n",
    "# e em vermelho a quantidade de pessoas que já tiveram um AVC\n",
    "\n",
    "plt.figure(figsize = (17,5))    \n",
    "plt.subplot(1,2,1)              \n",
    "sns.histplot(df['bmi'])         \n",
    "sns.histplot(df_avc['bmi'], color=\"#e63946\")         \n",
    "\n",
    "plt.subplot(1,2,2)              \n",
    "sns.boxplot(y = df['bmi'])      \n",
    "plt.show()"
   ]
  },
  {
   "cell_type": "code",
   "execution_count": 518,
   "id": "9a1de9e4",
   "metadata": {},
   "outputs": [
    {
     "name": "stdout",
     "output_type": "stream",
     "text": [
      "Quantidade de outliers:  0\n"
     ]
    }
   ],
   "source": [
    "# Verificamos se existe algum outlier\n",
    "import statistics\n",
    "\n",
    "outliers = []\n",
    "\n",
    "desv_pad = statistics.stdev(df['bmi'])\n",
    "media = statistics.mean(df['bmi'])\n",
    "limite = desv_pad * 3\n",
    "limite_inferior = media - limite\n",
    "limite_superior = media + limite\n",
    "\n",
    "for outlier in df['bmi']:\n",
    "    if outlier > limite_superior or outlier < limite_inferior:\n",
    "        outliers.append(outlier)\n",
    "\n",
    "porct_df_out = len(outliers)/len(df['bmi'])*100\n",
    "\n",
    "print(\"Quantidade de outliers: \", len(outliers))"
   ]
  },
  {
   "cell_type": "markdown",
   "id": "addc6664",
   "metadata": {},
   "source": [
    "## Índice de Glicose"
   ]
  },
  {
   "cell_type": "code",
   "execution_count": 519,
   "id": "00d25988",
   "metadata": {},
   "outputs": [
    {
     "data": {
      "image/png": "[encoded data removed]",
      "text/plain": [
       "<Figure size 1224x360 with 2 Axes>"
      ]
     },
     "metadata": {
      "needs_background": "light"
     },
     "output_type": "display_data"
    }
   ],
   "source": [
    "# Plotamos um gráfico com a quantidade de pessoas por IMC \n",
    "# e em vermelho a quantidade de pessoas que já tiveram um AVC\n",
    "\n",
    "plt.figure(figsize = (17,5))    \n",
    "plt.subplot(1,2,1)              \n",
    "sns.histplot(df['avg_glucose_level'])         \n",
    "sns.histplot(df_avc['avg_glucose_level'], color=\"#e63946\")         \n",
    "\n",
    "plt.subplot(1,2,2)              \n",
    "sns.boxplot(y = df['avg_glucose_level'])      \n",
    "plt.show()"
   ]
  },
  {
   "cell_type": "code",
   "execution_count": 520,
   "id": "2a9dbcb4",
   "metadata": {},
   "outputs": [
    {
     "name": "stdout",
     "output_type": "stream",
     "text": [
      "Os outliers são:  [252.72, 243.58, 259.63, 249.31, 263.32, 271.74, 242.52, 250.89, 247.51, 243.53, 242.3, 243.5, 251.6, 247.69, 250.2, 254.6, 254.63, 246.34, 251.46, 267.76, 246.53, 244.28, 251.99, 253.16, 242.84, 249.29, 242.94, 247.48, 266.59, 243.73, 243.59, 250.8, 255.17, 267.61, 260.85, 248.37, 263.56, 247.97, 248.24, 253.93, 254.95, 247.87, 261.67, 256.74, 244.3, 242.62, 243.52, 267.6, 253.86]\n",
      "Quantidade de outliers:  49\n"
     ]
    }
   ],
   "source": [
    "# Verificamos se existe algum outlier\n",
    "import statistics\n",
    "\n",
    "outliers = []\n",
    "\n",
    "desv_pad = statistics.stdev(df['avg_glucose_level'])\n",
    "media = statistics.mean(df['avg_glucose_level'])\n",
    "limite = desv_pad * 3\n",
    "limite_inferior = media - limite\n",
    "limite_superior = media + limite\n",
    "\n",
    "for outlier in df['avg_glucose_level']:\n",
    "    if outlier > limite_superior or outlier < limite_inferior:\n",
    "        outliers.append(outlier)\n",
    "\n",
    "porct_df_out = len(outliers)/len(df['avg_glucose_level'])*100\n",
    "\n",
    "print(\"Os outliers são: \", outliers)\n",
    "print(\"Quantidade de outliers: \", len(outliers))"
   ]
  },
  {
   "cell_type": "markdown",
   "id": "2d79bb03",
   "metadata": {},
   "source": [
    "#### Índice glicêmico X Diabetes\n",
    "> identificamos 49 outliers, porém sabemos que o índice pode ultrapassar 100 e chegar até níveis acima de 200, o que caracteriza a doença Diabetes. Não vamos excluir esses dados justamente por considerá-los possíveis pacientes com Diabetes."
   ]
  },
  {
   "cell_type": "code",
   "execution_count": 521,
   "id": "d023b0d7",
   "metadata": {},
   "outputs": [
    {
     "data": {
      "text/plain": [
       "array(['Male', 'Female', 'Other'], dtype=object)"
      ]
     },
     "execution_count": 521,
     "metadata": {},
     "output_type": "execute_result"
    }
   ],
   "source": [
    "df['gender'].unique()"
   ]
  },
  {
   "cell_type": "code",
   "execution_count": 522,
   "id": "8b3fae37",
   "metadata": {},
   "outputs": [
    {
     "data": {
      "text/plain": [
       "Female    2994\n",
       "Male      2115\n",
       "Other        1\n",
       "Name: gender, dtype: int64"
      ]
     },
     "execution_count": 522,
     "metadata": {},
     "output_type": "execute_result"
    }
   ],
   "source": [
    "df['gender'].value_counts()"
   ]
  },
  {
   "cell_type": "markdown",
   "id": "df6a1591",
   "metadata": {},
   "source": [
    "## Gênero e tabagismo"
   ]
  },
  {
   "cell_type": "code",
   "execution_count": 523,
   "id": "2da3925f",
   "metadata": {},
   "outputs": [
    {
     "data": {
      "image/png": "[encoded data removed]",
      "text/plain": [
       "<Figure size 1224x360 with 2 Axes>"
      ]
     },
     "metadata": {
      "needs_background": "light"
     },
     "output_type": "display_data"
    }
   ],
   "source": [
    "plt.figure(figsize = (17,5))    \n",
    "\n",
    "plt.subplot(1,2,1)              \n",
    "sns.histplot(df['gender'])         \n",
    "sns.histplot(df_avc['gender'], color=\"#e63946\")         \n",
    "\n",
    "plt.subplot(1,2,2)              \n",
    "sns.histplot(df['smoking_status'])         \n",
    "sns.histplot(df_avc['smoking_status'], color=\"#e63946\")         \n",
    "\n",
    "plt.show()\n"
   ]
  },
  {
   "cell_type": "markdown",
   "id": "606c3a08",
   "metadata": {},
   "source": [
    "## tipo de trabbalho e residência"
   ]
  },
  {
   "cell_type": "code",
   "execution_count": 524,
   "id": "de849f63",
   "metadata": {},
   "outputs": [
    {
     "data": {
      "image/png": "[encoded data removed]",
      "text/plain": [
       "<Figure size 1224x360 with 2 Axes>"
      ]
     },
     "metadata": {
      "needs_background": "light"
     },
     "output_type": "display_data"
    }
   ],
   "source": [
    "plt.figure(figsize = (17,5))    \n",
    "\n",
    "plt.subplot(1,2,1)              \n",
    "sns.histplot(df['Residence_type'])         \n",
    "sns.histplot(df_avc['Residence_type'], color=\"#e63946\")         \n",
    "\n",
    "plt.subplot(1,2,2)              \n",
    "sns.histplot(df['work_type'])         \n",
    "sns.histplot(df_avc['work_type'], color=\"#e63946\")         \n",
    "\n",
    "plt.show()"
   ]
  },
  {
   "cell_type": "markdown",
   "id": "98f7fbc6",
   "metadata": {},
   "source": [
    "#### Percepções\n",
    "> Percebemos que a variável mais importante é a idade;\n",
    "\n",
    "> Acreditava que tabagismo poderia ser um dos fatores mais importantes, mas o gráfico mostrou que nessa base de dados não influenciou tanto assim;\n",
    "\n",
    "> Podemos passar para a correção e alterações na base para montar o mapa de correlações"
   ]
  },
  {
   "cell_type": "markdown",
   "id": "f3c11859",
   "metadata": {},
   "source": [
    "# CORREÇÕES E ALTERAÇÕES"
   ]
  },
  {
   "cell_type": "markdown",
   "id": "b6b8293d",
   "metadata": {},
   "source": [
    "Primeiro vamos alterar as variáveis categóricas para numéricas, para dessa forma nosso modelo conseguir considerá-las"
   ]
  },
  {
   "cell_type": "code",
   "execution_count": 525,
   "id": "85f2d1ff",
   "metadata": {},
   "outputs": [
    {
     "data": {
      "text/plain": [
       "Female    2994\n",
       "Male      2115\n",
       "Other        1\n",
       "Name: gender, dtype: int64"
      ]
     },
     "execution_count": 525,
     "metadata": {},
     "output_type": "execute_result"
    }
   ],
   "source": [
    "df['gender'].value_counts()"
   ]
  },
  {
   "cell_type": "code",
   "execution_count": 526,
   "id": "cdaffb45",
   "metadata": {},
   "outputs": [],
   "source": [
    "df['gender'] = df['gender'].replace('Female', 0)\n",
    "df['gender'] = df['gender'].replace('Male', 1)\n",
    "df['gender'] = df['gender'].replace('Other', 2)"
   ]
  },
  {
   "cell_type": "code",
   "execution_count": 527,
   "id": "a58f9056",
   "metadata": {},
   "outputs": [
    {
     "data": {
      "text/plain": [
       "Yes    3353\n",
       "No     1757\n",
       "Name: ever_married, dtype: int64"
      ]
     },
     "execution_count": 527,
     "metadata": {},
     "output_type": "execute_result"
    }
   ],
   "source": [
    "df['ever_married'].value_counts()"
   ]
  },
  {
   "cell_type": "code",
   "execution_count": 528,
   "id": "2cb277b6",
   "metadata": {},
   "outputs": [],
   "source": [
    "df['ever_married'] = df['ever_married'].replace('Yes', 1)\n",
    "df['ever_married'] = df['ever_married'].replace('No', 0)"
   ]
  },
  {
   "cell_type": "code",
   "execution_count": 529,
   "id": "08324ba4",
   "metadata": {},
   "outputs": [
    {
     "data": {
      "text/plain": [
       "Private          2925\n",
       "Self-employed     819\n",
       "children          687\n",
       "Govt_job          657\n",
       "Never_worked       22\n",
       "Name: work_type, dtype: int64"
      ]
     },
     "execution_count": 529,
     "metadata": {},
     "output_type": "execute_result"
    }
   ],
   "source": [
    "df['work_type'].value_counts()"
   ]
  },
  {
   "cell_type": "code",
   "execution_count": 530,
   "id": "d471b804",
   "metadata": {},
   "outputs": [],
   "source": [
    "df['work_type'] = df['work_type'].replace('Private', 0)\n",
    "df['work_type'] = df['work_type'].replace('Self-employed', 1)\n",
    "df['work_type'] = df['work_type'].replace('children', 2)\n",
    "df['work_type'] = df['work_type'].replace('Govt_job', 3)\n",
    "df['work_type'] = df['work_type'].replace('Never_worked', 4)"
   ]
  },
  {
   "cell_type": "code",
   "execution_count": 531,
   "id": "a2a26b21",
   "metadata": {},
   "outputs": [
    {
     "data": {
      "text/plain": [
       "Urban    2596\n",
       "Rural    2514\n",
       "Name: Residence_type, dtype: int64"
      ]
     },
     "execution_count": 531,
     "metadata": {},
     "output_type": "execute_result"
    }
   ],
   "source": [
    "df['Residence_type'].value_counts()"
   ]
  },
  {
   "cell_type": "code",
   "execution_count": 532,
   "id": "e5f5805f",
   "metadata": {},
   "outputs": [],
   "source": [
    "df['Residence_type'] = df['Residence_type'].replace('Urban', 0)\n",
    "df['Residence_type'] = df['Residence_type'].replace('Rural', 1)"
   ]
  },
  {
   "cell_type": "code",
   "execution_count": 533,
   "id": "95f6570b",
   "metadata": {},
   "outputs": [
    {
     "data": {
      "text/plain": [
       "never smoked       1892\n",
       "Unknown            1544\n",
       "formerly smoked     885\n",
       "smokes              789\n",
       "Name: smoking_status, dtype: int64"
      ]
     },
     "execution_count": 533,
     "metadata": {},
     "output_type": "execute_result"
    }
   ],
   "source": [
    "df['smoking_status'].value_counts()"
   ]
  },
  {
   "cell_type": "code",
   "execution_count": 534,
   "id": "3d4aed00",
   "metadata": {},
   "outputs": [],
   "source": [
    "df['smoking_status'] = df['smoking_status'].replace('never smoked', 0)\n",
    "df['smoking_status'] = df['smoking_status'].replace('Unknown', 1)\n",
    "df['smoking_status'] = df['smoking_status'].replace('formerly smoked', 2)\n",
    "df['smoking_status'] = df['smoking_status'].replace('smokes', 3)"
   ]
  },
  {
   "cell_type": "code",
   "execution_count": 535,
   "id": "313da319",
   "metadata": {},
   "outputs": [
    {
     "data": {
      "text/html": [
       "<div>\n",
       "<style scoped>\n",
       "    .dataframe tbody tr th:only-of-type {\n",
       "        vertical-align: middle;\n",
       "    }\n",
       "\n",
       "    .dataframe tbody tr th {\n",
       "        vertical-align: top;\n",
       "    }\n",
       "\n",
       "    .dataframe thead th {\n",
       "        text-align: right;\n",
       "    }\n",
       "</style>\n",
       "<table border=\"1\" class=\"dataframe\">\n",
       "  <thead>\n",
       "    <tr style=\"text-align: right;\">\n",
       "      <th></th>\n",
       "      <th>gender</th>\n",
       "      <th>age</th>\n",
       "      <th>hypertension</th>\n",
       "      <th>heart_disease</th>\n",
       "      <th>ever_married</th>\n",
       "      <th>work_type</th>\n",
       "      <th>Residence_type</th>\n",
       "      <th>avg_glucose_level</th>\n",
       "      <th>bmi</th>\n",
       "      <th>smoking_status</th>\n",
       "      <th>stroke</th>\n",
       "    </tr>\n",
       "  </thead>\n",
       "  <tbody>\n",
       "    <tr>\n",
       "      <th>3017</th>\n",
       "      <td>1</td>\n",
       "      <td>76.0</td>\n",
       "      <td>0</td>\n",
       "      <td>0</td>\n",
       "      <td>1</td>\n",
       "      <td>1</td>\n",
       "      <td>1</td>\n",
       "      <td>221.80</td>\n",
       "      <td>44.7</td>\n",
       "      <td>2</td>\n",
       "      <td>0</td>\n",
       "    </tr>\n",
       "    <tr>\n",
       "      <th>69</th>\n",
       "      <td>0</td>\n",
       "      <td>80.0</td>\n",
       "      <td>1</td>\n",
       "      <td>0</td>\n",
       "      <td>1</td>\n",
       "      <td>1</td>\n",
       "      <td>1</td>\n",
       "      <td>72.67</td>\n",
       "      <td>28.9</td>\n",
       "      <td>0</td>\n",
       "      <td>1</td>\n",
       "    </tr>\n",
       "    <tr>\n",
       "      <th>1635</th>\n",
       "      <td>0</td>\n",
       "      <td>38.0</td>\n",
       "      <td>0</td>\n",
       "      <td>0</td>\n",
       "      <td>1</td>\n",
       "      <td>3</td>\n",
       "      <td>0</td>\n",
       "      <td>58.29</td>\n",
       "      <td>25.5</td>\n",
       "      <td>2</td>\n",
       "      <td>0</td>\n",
       "    </tr>\n",
       "    <tr>\n",
       "      <th>3462</th>\n",
       "      <td>1</td>\n",
       "      <td>82.0</td>\n",
       "      <td>0</td>\n",
       "      <td>0</td>\n",
       "      <td>1</td>\n",
       "      <td>1</td>\n",
       "      <td>0</td>\n",
       "      <td>214.51</td>\n",
       "      <td>24.0</td>\n",
       "      <td>2</td>\n",
       "      <td>0</td>\n",
       "    </tr>\n",
       "    <tr>\n",
       "      <th>2168</th>\n",
       "      <td>1</td>\n",
       "      <td>55.0</td>\n",
       "      <td>0</td>\n",
       "      <td>0</td>\n",
       "      <td>1</td>\n",
       "      <td>0</td>\n",
       "      <td>0</td>\n",
       "      <td>203.81</td>\n",
       "      <td>33.9</td>\n",
       "      <td>2</td>\n",
       "      <td>0</td>\n",
       "    </tr>\n",
       "    <tr>\n",
       "      <th>4594</th>\n",
       "      <td>1</td>\n",
       "      <td>16.0</td>\n",
       "      <td>0</td>\n",
       "      <td>0</td>\n",
       "      <td>0</td>\n",
       "      <td>0</td>\n",
       "      <td>0</td>\n",
       "      <td>84.10</td>\n",
       "      <td>19.3</td>\n",
       "      <td>1</td>\n",
       "      <td>0</td>\n",
       "    </tr>\n",
       "    <tr>\n",
       "      <th>2297</th>\n",
       "      <td>0</td>\n",
       "      <td>71.0</td>\n",
       "      <td>1</td>\n",
       "      <td>0</td>\n",
       "      <td>1</td>\n",
       "      <td>0</td>\n",
       "      <td>0</td>\n",
       "      <td>129.97</td>\n",
       "      <td>44.2</td>\n",
       "      <td>3</td>\n",
       "      <td>0</td>\n",
       "    </tr>\n",
       "    <tr>\n",
       "      <th>2362</th>\n",
       "      <td>0</td>\n",
       "      <td>80.0</td>\n",
       "      <td>0</td>\n",
       "      <td>1</td>\n",
       "      <td>1</td>\n",
       "      <td>1</td>\n",
       "      <td>1</td>\n",
       "      <td>98.39</td>\n",
       "      <td>22.2</td>\n",
       "      <td>3</td>\n",
       "      <td>0</td>\n",
       "    </tr>\n",
       "    <tr>\n",
       "      <th>3874</th>\n",
       "      <td>1</td>\n",
       "      <td>26.0</td>\n",
       "      <td>0</td>\n",
       "      <td>0</td>\n",
       "      <td>0</td>\n",
       "      <td>0</td>\n",
       "      <td>0</td>\n",
       "      <td>71.25</td>\n",
       "      <td>30.3</td>\n",
       "      <td>3</td>\n",
       "      <td>0</td>\n",
       "    </tr>\n",
       "    <tr>\n",
       "      <th>3327</th>\n",
       "      <td>0</td>\n",
       "      <td>74.0</td>\n",
       "      <td>0</td>\n",
       "      <td>0</td>\n",
       "      <td>0</td>\n",
       "      <td>1</td>\n",
       "      <td>0</td>\n",
       "      <td>204.77</td>\n",
       "      <td>40.8</td>\n",
       "      <td>0</td>\n",
       "      <td>0</td>\n",
       "    </tr>\n",
       "  </tbody>\n",
       "</table>\n",
       "</div>"
      ],
      "text/plain": [
       "      gender   age  hypertension  heart_disease  ever_married  work_type  \\\n",
       "3017       1  76.0             0              0             1          1   \n",
       "69         0  80.0             1              0             1          1   \n",
       "1635       0  38.0             0              0             1          3   \n",
       "3462       1  82.0             0              0             1          1   \n",
       "2168       1  55.0             0              0             1          0   \n",
       "4594       1  16.0             0              0             0          0   \n",
       "2297       0  71.0             1              0             1          0   \n",
       "2362       0  80.0             0              1             1          1   \n",
       "3874       1  26.0             0              0             0          0   \n",
       "3327       0  74.0             0              0             0          1   \n",
       "\n",
       "      Residence_type  avg_glucose_level   bmi  smoking_status  stroke  \n",
       "3017               1             221.80  44.7               2       0  \n",
       "69                 1              72.67  28.9               0       1  \n",
       "1635               0              58.29  25.5               2       0  \n",
       "3462               0             214.51  24.0               2       0  \n",
       "2168               0             203.81  33.9               2       0  \n",
       "4594               0              84.10  19.3               1       0  \n",
       "2297               0             129.97  44.2               3       0  \n",
       "2362               1              98.39  22.2               3       0  \n",
       "3874               0              71.25  30.3               3       0  \n",
       "3327               0             204.77  40.8               0       0  "
      ]
     },
     "execution_count": 535,
     "metadata": {},
     "output_type": "execute_result"
    }
   ],
   "source": [
    "df.sample(10)"
   ]
  },
  {
   "cell_type": "code",
   "execution_count": 536,
   "id": "a0f2422f",
   "metadata": {},
   "outputs": [
    {
     "name": "stdout",
     "output_type": "stream",
     "text": [
      "bmi | 3.93% null\n"
     ]
    }
   ],
   "source": [
    "# Vamos descobrir a porcentagem de nulos em todos os campos\n",
    "for i in df.columns:\n",
    "    null_rate = df[i].isna().sum() / len(df) * 100 \n",
    "    if null_rate > 0 :\n",
    "        print(\"{} | {}% null\".format(i,round(null_rate,2)))"
   ]
  },
  {
   "cell_type": "code",
   "execution_count": 537,
   "id": "4ddd1844",
   "metadata": {},
   "outputs": [],
   "source": [
    "df.dropna(inplace=True)"
   ]
  },
  {
   "cell_type": "markdown",
   "id": "bb2c3ab8",
   "metadata": {},
   "source": [
    "## Mapa de correlação"
   ]
  },
  {
   "cell_type": "code",
   "execution_count": 538,
   "id": "b16e2145",
   "metadata": {},
   "outputs": [
    {
     "data": {
      "image/png": "[encoded data removed]",
      "text/plain": [
       "<Figure size 1080x360 with 2 Axes>"
      ]
     },
     "metadata": {
      "needs_background": "light"
     },
     "output_type": "display_data"
    }
   ],
   "source": [
    "#correlation map\n",
    "f,ax = plt.subplots(figsize=(15, 5))\n",
    "sns.heatmap(df.corr(), annot=True, linewidths=.3, fmt= '.2f',ax=ax)\n",
    "plt.show()"
   ]
  },
  {
   "cell_type": "markdown",
   "id": "eecd263d",
   "metadata": {},
   "source": [
    "## Correlações\n",
    "> 1. Várias correlações entre a variável **Idade**;\n",
    "> 2. Algumas **correlações fracas** entre as variáveis hipertensão, doenças do coração, índice glicêmico e IMC;\n",
    "> 3. A maior correlação de AVC foi com a variável **IDADE**;\n",
    "> 4. Vamos desconsiderar as variáveis: Já foi casado, tipo de trabalho, tipo de residência e tabagismo, que não apresentaram correlações relevantes."
   ]
  },
  {
   "cell_type": "markdown",
   "id": "e6066f1d",
   "metadata": {},
   "source": [
    "# MODELO"
   ]
  },
  {
   "cell_type": "markdown",
   "id": "b6fe253f",
   "metadata": {},
   "source": [
    "## Preparação\n",
    "Vamos testar alguns modelos diferentes. \n",
    "Primeiro vamos separar a base e depois testar com ExtraTrees, RandomForest e XGBoost, para ver qual modelo sai melhor"
   ]
  },
  {
   "cell_type": "code",
   "execution_count": 539,
   "id": "f11efd85",
   "metadata": {},
   "outputs": [],
   "source": [
    "X  = df[['gender','age','hypertension','heart_disease','avg_glucose_level','bmi']]\n",
    "y = df['stroke']\n"
   ]
  },
  {
   "cell_type": "code",
   "execution_count": 540,
   "id": "be8044c8",
   "metadata": {},
   "outputs": [],
   "source": [
    "# Montamos a base de treino e teste. Como a base é relativamente pequena, vamos separar por 40%\n",
    "from sklearn.model_selection import train_test_split\n",
    "\n",
    "x_treino, x_teste, y_treino, y_teste = train_test_split(X, y, test_size = 0.40)"
   ]
  },
  {
   "cell_type": "markdown",
   "id": "73508f99",
   "metadata": {},
   "source": [
    "### ExtraTreesClassifier"
   ]
  },
  {
   "cell_type": "code",
   "execution_count": 541,
   "id": "65b3d483",
   "metadata": {},
   "outputs": [
    {
     "name": "stdout",
     "output_type": "stream",
     "text": [
      "Acurácia: 0.9501018329938901\n"
     ]
    }
   ],
   "source": [
    "from sklearn.ensemble import ExtraTreesClassifier\n",
    "\n",
    "ExtraTree = ExtraTreesClassifier()\n",
    "ExtraTree.fit(x_treino, y_treino)\n",
    "\n",
    "resultado = ExtraTree.score(x_teste, y_teste)\n",
    "print(f\"Acurácia: {resultado}\")"
   ]
  },
  {
   "cell_type": "markdown",
   "id": "f430103a",
   "metadata": {},
   "source": [
    "### RandomForest"
   ]
  },
  {
   "cell_type": "code",
   "execution_count": 542,
   "id": "47359a9d",
   "metadata": {},
   "outputs": [
    {
     "name": "stdout",
     "output_type": "stream",
     "text": [
      "Acurácia: 0.9531568228105907\n"
     ]
    }
   ],
   "source": [
    "from sklearn.ensemble import RandomForestClassifier\n",
    "\n",
    "RandomForest = RandomForestClassifier(max_depth=5)\n",
    "RandomForest.fit(x_treino, y_treino)\n",
    "\n",
    "resultado = RandomForest.score(x_teste, y_teste)\n",
    "print(f\"Acurácia: {resultado}\")"
   ]
  },
  {
   "cell_type": "markdown",
   "id": "0bebef1f",
   "metadata": {},
   "source": [
    "### XGBoost"
   ]
  },
  {
   "cell_type": "code",
   "execution_count": 543,
   "id": "389b03ab",
   "metadata": {},
   "outputs": [
    {
     "data": {
      "text/plain": [
       "0.952801798685576"
      ]
     },
     "execution_count": 543,
     "metadata": {},
     "output_type": "execute_result"
    }
   ],
   "source": [
    "modelo_xgb = xgb.XGBClassifier()\n",
    "\n",
    "from sklearn.model_selection import cross_val_score\n",
    "cross_validation = cross_val_score(classificador_xgb, x_treino, y_treino, cv=10)\n",
    "\n",
    "acuracia_cv = cross_validation.mean()\n",
    "acuracia_cv"
   ]
  },
  {
   "cell_type": "markdown",
   "id": "95c3af8c",
   "metadata": {},
   "source": [
    "# PREVISÃO "
   ]
  },
  {
   "cell_type": "markdown",
   "id": "1eec6e67",
   "metadata": {},
   "source": [
    "Vamos fazer uma previsão levando em consideração os meus valores</br></br>\n",
    "**Gênero:** Masculino (1) </br>\n",
    "**Idade:** 36</br>\n",
    "**Hipertensão:** 0</br>\n",
    "**Doença do coração:** 0</br>\n",
    "**Índice Glicêmico:** 97 (pré-diabetes)</br>\n",
    "**IMC:** 27,1 (aproximadamente)</br>"
   ]
  },
  {
   "cell_type": "code",
   "execution_count": 546,
   "id": "24f62591",
   "metadata": {},
   "outputs": [
    {
     "name": "stderr",
     "output_type": "stream",
     "text": [
      "C:\\Users\\rafa\\anaconda3\\lib\\site-packages\\sklearn\\base.py:450: UserWarning: X does not have valid feature names, but RandomForestClassifier was fitted with feature names\n",
      "  warnings.warn(\n"
     ]
    },
    {
     "data": {
      "text/plain": [
       "array([0], dtype=int64)"
      ]
     },
     "execution_count": 546,
     "metadata": {},
     "output_type": "execute_result"
    }
   ],
   "source": [
    "rafa = [[1, 36, 0, 0, 97, 27.1]]\n",
    "previsao = RandomForest.predict(rafa)\n",
    "previsao"
   ]
  },
  {
   "cell_type": "markdown",
   "id": "daac1701",
   "metadata": {},
   "source": [
    "> Resultado da previsão foi 0 (ZERO), portanto seguindo nosso modelo tudo indica que com os indicadores atuais de idade, hipertensão, índice glicêmico e IMC eu não terei um AVC nos próximos meses ou anos."
   ]
  },
  {
   "cell_type": "markdown",
   "id": "8248bbb1",
   "metadata": {},
   "source": [
    "# CONCLUSÃO"
   ]
  },
  {
   "cell_type": "markdown",
   "id": "4d64d6d8",
   "metadata": {},
   "source": [
    "Sabemos que é impossível prever se alguém terá AVC apenas com 6 variáveis, levando em consideração um dataset com apenas 5 mil linhas.</br></br>\n",
    "De qualquer forma, independente do resultado, o entendimento de que o principal trabalho é entender quais são as variáveis importantes, como funciona um sistema de validação e teste, quando saber que o modelo de fato está representando a realidade é o pricipal ponto focal de um trabalho de Machine Learning que busca um modelo de classificação."
   ]
  },
  {
   "cell_type": "code",
   "execution_count": null,
   "id": "41fdf05f",
   "metadata": {},
   "outputs": [],
   "source": []
  }
 ],
 "metadata": {
  "kernelspec": {
   "display_name": "Python 3 (ipykernel)",
   "language": "python",
   "name": "python3"
  },
  "language_info": {
   "codemirror_mode": {
    "name": "ipython",
    "version": 3
   },
   "file_extension": ".py",
   "mimetype": "text/x-python",
   "name": "python",
   "nbconvert_exporter": "python",
   "pygments_lexer": "ipython3",
   "version": "3.9.12"
  }
 },
 "nbformat": 4,
 "nbformat_minor": 5
}
